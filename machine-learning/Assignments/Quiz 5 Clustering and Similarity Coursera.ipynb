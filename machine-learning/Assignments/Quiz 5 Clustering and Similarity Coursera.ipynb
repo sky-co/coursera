{
 "cells": [
  {
   "cell_type": "code",
   "execution_count": 1,
   "metadata": {
    "collapsed": true
   },
   "outputs": [],
   "source": [
    "import graphlab\n",
    "import math"
   ]
  },
  {
   "cell_type": "code",
   "execution_count": 2,
   "metadata": {
    "collapsed": true
   },
   "outputs": [],
   "source": [
    "base = [1, 3, 2, 1, 2, 1, 1]\n",
    "a = [7, 0, 2, 1, 0, 0, 1]\n",
    "b = [1, 7, 0, 0, 2, 0, 1]\n",
    "c = [1, 0, 0, 0, 7, 1, 2]\n",
    "d = [0, 2, 0, 0, 7, 1, 1]"
   ]
  },
  {
   "cell_type": "code",
   "execution_count": 3,
   "metadata": {
    "collapsed": true
   },
   "outputs": [],
   "source": [
    "def vector_length(v):\n",
    "    sum = 0.0\n",
    "    for i in v:\n",
    "        sum += i*i\n",
    "    return math.sqrt(sum)\n",
    "\n",
    "def cos(v1,v2):\n",
    "    mul = 0.0\n",
    "    for i in range(0, len(v1)):\n",
    "        mul += v1[i]*v2[i]\n",
    "    return mul/(vector_length(v1)*vector_length(v2))"
   ]
  },
  {
   "cell_type": "code",
   "execution_count": 4,
   "metadata": {
    "collapsed": false
   },
   "outputs": [
    {
     "name": "stdout",
     "output_type": "stream",
     "text": [
      "0.382518426119\n",
      "0.794461346554\n",
      "0.529640897703\n",
      "0.64733887497\n"
     ]
    }
   ],
   "source": [
    "print cos(base,a)\n",
    "print cos(base,b)\n",
    "print cos(base,c)\n",
    "print cos(base,d)"
   ]
  },
  {
   "cell_type": "markdown",
   "metadata": {},
   "source": [
    "So the second is the most similar one."
   ]
  }
 ],
 "metadata": {
  "kernelspec": {
   "display_name": "Python 2",
   "language": "python",
   "name": "python2"
  },
  "language_info": {
   "codemirror_mode": {
    "name": "ipython",
    "version": 2
   },
   "file_extension": ".py",
   "mimetype": "text/x-python",
   "name": "python",
   "nbconvert_exporter": "python",
   "pygments_lexer": "ipython2",
   "version": "2.7.6"
  }
 },
 "nbformat": 4,
 "nbformat_minor": 0
}
